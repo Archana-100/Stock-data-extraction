{
 "cells": [
  {
   "cell_type": "code",
   "execution_count": 1,
   "metadata": {},
   "outputs": [],
   "source": [
    "#install required packages"
   ]
  },
  {
   "cell_type": "code",
   "execution_count": 2,
   "metadata": {},
   "outputs": [
    {
     "name": "stdout",
     "output_type": "stream",
     "text": [
      "Collecting newspaper3k\n",
      "  Downloading newspaper3k-0.2.8-py3-none-any.whl (211 kB)\n",
      "Collecting feedparser>=5.2.1\n",
      "  Downloading feedparser-6.0.8-py3-none-any.whl (81 kB)\n",
      "Collecting tldextract>=2.0.1\n",
      "  Downloading tldextract-3.1.2-py2.py3-none-any.whl (87 kB)\n",
      "Requirement already satisfied: lxml>=3.6.0 in c:\\users\\archa\\anaconda3\\lib\\site-packages (from newspaper3k) (4.6.1)\n",
      "Collecting cssselect>=0.9.2\n",
      "  Downloading cssselect-1.1.0-py2.py3-none-any.whl (16 kB)\n",
      "Requirement already satisfied: Pillow>=3.3.0 in c:\\users\\archa\\anaconda3\\lib\\site-packages (from newspaper3k) (8.0.1)\n",
      "Requirement already satisfied: beautifulsoup4>=4.4.1 in c:\\users\\archa\\anaconda3\\lib\\site-packages (from newspaper3k) (4.9.3)\n",
      "Requirement already satisfied: PyYAML>=3.11 in c:\\users\\archa\\anaconda3\\lib\\site-packages (from newspaper3k) (5.3.1)\n",
      "Requirement already satisfied: nltk>=3.2.1 in c:\\users\\archa\\anaconda3\\lib\\site-packages (from newspaper3k) (3.5)\n",
      "Collecting tinysegmenter==0.3\n",
      "  Downloading tinysegmenter-0.3.tar.gz (16 kB)\n",
      "Collecting jieba3k>=0.35.1\n",
      "  Downloading jieba3k-0.35.1.zip (7.4 MB)\n",
      "Requirement already satisfied: requests>=2.10.0 in c:\\users\\archa\\anaconda3\\lib\\site-packages (from newspaper3k) (2.24.0)\n",
      "Collecting feedfinder2>=0.0.4\n",
      "  Downloading feedfinder2-0.0.4.tar.gz (3.3 kB)\n",
      "Requirement already satisfied: python-dateutil>=2.5.3 in c:\\users\\archa\\anaconda3\\lib\\site-packages (from newspaper3k) (2.8.1)\n",
      "Collecting sgmllib3k\n",
      "  Downloading sgmllib3k-1.0.0.tar.gz (5.8 kB)\n",
      "Collecting requests-file>=1.4\n",
      "  Downloading requests_file-1.5.1-py2.py3-none-any.whl (3.7 kB)\n",
      "Requirement already satisfied: idna in c:\\users\\archa\\anaconda3\\lib\\site-packages (from tldextract>=2.0.1->newspaper3k) (2.10)\n",
      "Requirement already satisfied: filelock>=3.0.8 in c:\\users\\archa\\anaconda3\\lib\\site-packages (from tldextract>=2.0.1->newspaper3k) (3.0.12)\n",
      "Requirement already satisfied: soupsieve>1.2; python_version >= \"3.0\" in c:\\users\\archa\\anaconda3\\lib\\site-packages (from beautifulsoup4>=4.4.1->newspaper3k) (2.0.1)\n",
      "Requirement already satisfied: click in c:\\users\\archa\\anaconda3\\lib\\site-packages (from nltk>=3.2.1->newspaper3k) (7.1.2)\n",
      "Requirement already satisfied: tqdm in c:\\users\\archa\\anaconda3\\lib\\site-packages (from nltk>=3.2.1->newspaper3k) (4.50.2)\n",
      "Requirement already satisfied: regex in c:\\users\\archa\\anaconda3\\lib\\site-packages (from nltk>=3.2.1->newspaper3k) (2020.10.15)\n",
      "Requirement already satisfied: joblib in c:\\users\\archa\\anaconda3\\lib\\site-packages (from nltk>=3.2.1->newspaper3k) (0.17.0)\n",
      "Requirement already satisfied: certifi>=2017.4.17 in c:\\users\\archa\\anaconda3\\lib\\site-packages (from requests>=2.10.0->newspaper3k) (2020.6.20)\n",
      "Requirement already satisfied: urllib3!=1.25.0,!=1.25.1,<1.26,>=1.21.1 in c:\\users\\archa\\anaconda3\\lib\\site-packages (from requests>=2.10.0->newspaper3k) (1.25.11)\n",
      "Requirement already satisfied: chardet<4,>=3.0.2 in c:\\users\\archa\\anaconda3\\lib\\site-packages (from requests>=2.10.0->newspaper3k) (3.0.4)\n",
      "Requirement already satisfied: six in c:\\users\\archa\\anaconda3\\lib\\site-packages (from feedfinder2>=0.0.4->newspaper3k) (1.15.0)\n",
      "Building wheels for collected packages: tinysegmenter, jieba3k, feedfinder2, sgmllib3k\n",
      "  Building wheel for tinysegmenter (setup.py): started\n",
      "  Building wheel for tinysegmenter (setup.py): finished with status 'done'\n",
      "  Created wheel for tinysegmenter: filename=tinysegmenter-0.3-py3-none-any.whl size=13543 sha256=1296229e374b986c5e9ae683dd1f2e0dd8fd5b030df858b7ee836b7c3f3da8dc\n",
      "  Stored in directory: c:\\users\\archa\\appdata\\local\\pip\\cache\\wheels\\99\\74\\83\\8fac1c8d9c648cfabebbbffe97a889f6624817f3aa0bbe6c09\n",
      "  Building wheel for jieba3k (setup.py): started\n",
      "  Building wheel for jieba3k (setup.py): finished with status 'done'\n",
      "  Created wheel for jieba3k: filename=jieba3k-0.35.1-py3-none-any.whl size=7398411 sha256=2922714ca48b3981e28ef767aa7d33b54bf7c31ea93ab4d49c2bce30a87b4c48\n",
      "  Stored in directory: c:\\users\\archa\\appdata\\local\\pip\\cache\\wheels\\1f\\7e\\0c\\54f3b0f5164278677899f2db08f2b07943ce2d024a3c862afb\n",
      "  Building wheel for feedfinder2 (setup.py): started\n",
      "  Building wheel for feedfinder2 (setup.py): finished with status 'done'\n",
      "  Created wheel for feedfinder2: filename=feedfinder2-0.0.4-py3-none-any.whl size=3362 sha256=7715ad7bb1bc7af3fd11b27b109c354a5675acca9b8d242c1841b62814b735f6\n",
      "  Stored in directory: c:\\users\\archa\\appdata\\local\\pip\\cache\\wheels\\b6\\09\\68\\a9f15498ac02c23dde29f18745bc6a6f574ba4ab41861a3575\n",
      "  Building wheel for sgmllib3k (setup.py): started\n",
      "  Building wheel for sgmllib3k (setup.py): finished with status 'done'\n",
      "  Created wheel for sgmllib3k: filename=sgmllib3k-1.0.0-py3-none-any.whl size=6070 sha256=3ec20a82976caca486e4a2b2fed7d2c5c7456e671ae6e6ce52c3734fecd3ce77\n",
      "  Stored in directory: c:\\users\\archa\\appdata\\local\\pip\\cache\\wheels\\83\\63\\2f\\117884c3b19d46b64d3d61690333aa80c88dc14050e269c546\n",
      "Successfully built tinysegmenter jieba3k feedfinder2 sgmllib3k\n",
      "Installing collected packages: sgmllib3k, feedparser, requests-file, tldextract, cssselect, tinysegmenter, jieba3k, feedfinder2, newspaper3k\n",
      "Successfully installed cssselect-1.1.0 feedfinder2-0.0.4 feedparser-6.0.8 jieba3k-0.35.1 newspaper3k-0.2.8 requests-file-1.5.1 sgmllib3k-1.0.0 tinysegmenter-0.3 tldextract-3.1.2\n",
      "Collecting GoogleNews\n",
      "  Downloading GoogleNews-1.5.9-py3-none-any.whl (7.8 kB)\n",
      "Requirement already satisfied: python-dateutil in c:\\users\\archa\\anaconda3\\lib\\site-packages (from GoogleNews) (2.8.1)\n",
      "Requirement already satisfied: beautifulsoup4 in c:\\users\\archa\\anaconda3\\lib\\site-packages (from GoogleNews) (4.9.3)\n",
      "Collecting dateparser\n",
      "  Downloading dateparser-1.1.0-py2.py3-none-any.whl (288 kB)\n",
      "Requirement already satisfied: six>=1.5 in c:\\users\\archa\\anaconda3\\lib\\site-packages (from python-dateutil->GoogleNews) (1.15.0)\n",
      "Requirement already satisfied: soupsieve>1.2; python_version >= \"3.0\" in c:\\users\\archa\\anaconda3\\lib\\site-packages (from beautifulsoup4->GoogleNews) (2.0.1)\n",
      "Requirement already satisfied: regex!=2019.02.19,!=2021.8.27 in c:\\users\\archa\\anaconda3\\lib\\site-packages (from dateparser->GoogleNews) (2020.10.15)\n",
      "Requirement already satisfied: pytz in c:\\users\\archa\\anaconda3\\lib\\site-packages (from dateparser->GoogleNews) (2020.1)\n",
      "Requirement already satisfied: tzlocal in c:\\users\\archa\\anaconda3\\lib\\site-packages (from dateparser->GoogleNews) (2.1)\n",
      "Installing collected packages: dateparser, GoogleNews\n",
      "Successfully installed GoogleNews-1.5.9 dateparser-1.1.0\n",
      "Collecting yfinance\n",
      "  Downloading yfinance-0.1.63.tar.gz (26 kB)\n",
      "Requirement already satisfied: pandas>=0.24 in c:\\users\\archa\\anaconda3\\lib\\site-packages (from yfinance) (1.1.3)\n",
      "Requirement already satisfied: numpy>=1.15 in c:\\users\\archa\\anaconda3\\lib\\site-packages (from yfinance) (1.19.2)\n",
      "Requirement already satisfied: requests>=2.20 in c:\\users\\archa\\anaconda3\\lib\\site-packages (from yfinance) (2.24.0)\n",
      "Collecting multitasking>=0.0.7\n",
      "  Downloading multitasking-0.0.9.tar.gz (8.1 kB)\n",
      "Requirement already satisfied: lxml>=4.5.1 in c:\\users\\archa\\anaconda3\\lib\\site-packages (from yfinance) (4.6.1)\n",
      "Requirement already satisfied: python-dateutil>=2.7.3 in c:\\users\\archa\\anaconda3\\lib\\site-packages (from pandas>=0.24->yfinance) (2.8.1)\n",
      "Requirement already satisfied: pytz>=2017.2 in c:\\users\\archa\\anaconda3\\lib\\site-packages (from pandas>=0.24->yfinance) (2020.1)\n",
      "Requirement already satisfied: urllib3!=1.25.0,!=1.25.1,<1.26,>=1.21.1 in c:\\users\\archa\\anaconda3\\lib\\site-packages (from requests>=2.20->yfinance) (1.25.11)\n",
      "Requirement already satisfied: idna<3,>=2.5 in c:\\users\\archa\\anaconda3\\lib\\site-packages (from requests>=2.20->yfinance) (2.10)\n",
      "Requirement already satisfied: chardet<4,>=3.0.2 in c:\\users\\archa\\anaconda3\\lib\\site-packages (from requests>=2.20->yfinance) (3.0.4)\n",
      "Requirement already satisfied: certifi>=2017.4.17 in c:\\users\\archa\\anaconda3\\lib\\site-packages (from requests>=2.20->yfinance) (2020.6.20)\n",
      "Requirement already satisfied: six>=1.5 in c:\\users\\archa\\anaconda3\\lib\\site-packages (from python-dateutil>=2.7.3->pandas>=0.24->yfinance) (1.15.0)\n",
      "Building wheels for collected packages: yfinance, multitasking\n",
      "  Building wheel for yfinance (setup.py): started\n",
      "  Building wheel for yfinance (setup.py): finished with status 'done'\n",
      "  Created wheel for yfinance: filename=yfinance-0.1.63-py2.py3-none-any.whl size=23914 sha256=40ebc1a60b404112c61425a203497633fa7a52ed9539d6b60c81d23c9c388468\n",
      "  Stored in directory: c:\\users\\archa\\appdata\\local\\pip\\cache\\wheels\\ec\\cc\\c1\\32da8ee853d742d5d7cbd11ee04421222eb354672020b57297\n",
      "  Building wheel for multitasking (setup.py): started\n",
      "  Building wheel for multitasking (setup.py): finished with status 'done'\n",
      "  Created wheel for multitasking: filename=multitasking-0.0.9-py3-none-any.whl size=8372 sha256=95892061770d968fa02cc9e51fa8dbc87d07096829300d06bcc4aa8e00f111d2\n",
      "  Stored in directory: c:\\users\\archa\\appdata\\local\\pip\\cache\\wheels\\57\\6d\\a3\\a39b839cc75274d2acfb1c58bfead2f726c6577fe8c4723f13\n",
      "Successfully built yfinance multitasking\n",
      "Installing collected packages: multitasking, yfinance\n",
      "Successfully installed multitasking-0.0.9 yfinance-0.1.63\n"
     ]
    }
   ],
   "source": [
    "#!pip install newspaper3k\n",
    "#!pip install GoogleNews\n",
    "#!pip install yfinance"
   ]
  },
  {
   "cell_type": "code",
   "execution_count": 3,
   "metadata": {},
   "outputs": [],
   "source": [
    "#data stocks"
   ]
  },
  {
   "cell_type": "code",
   "execution_count": 6,
   "metadata": {},
   "outputs": [
    {
     "name": "stdout",
     "output_type": "stream",
     "text": [
      "[*********************100%***********************]  1 of 1 completed\n"
     ]
    },
    {
     "data": {
      "text/html": [
       "<div>\n",
       "<style scoped>\n",
       "    .dataframe tbody tr th:only-of-type {\n",
       "        vertical-align: middle;\n",
       "    }\n",
       "\n",
       "    .dataframe tbody tr th {\n",
       "        vertical-align: top;\n",
       "    }\n",
       "\n",
       "    .dataframe thead th {\n",
       "        text-align: right;\n",
       "    }\n",
       "</style>\n",
       "<table border=\"1\" class=\"dataframe\">\n",
       "  <thead>\n",
       "    <tr style=\"text-align: right;\">\n",
       "      <th></th>\n",
       "      <th>Open</th>\n",
       "      <th>High</th>\n",
       "      <th>Low</th>\n",
       "      <th>Close</th>\n",
       "      <th>Adj Close</th>\n",
       "      <th>Volume</th>\n",
       "    </tr>\n",
       "    <tr>\n",
       "      <th>Date</th>\n",
       "      <th></th>\n",
       "      <th></th>\n",
       "      <th></th>\n",
       "      <th></th>\n",
       "      <th></th>\n",
       "      <th></th>\n",
       "    </tr>\n",
       "  </thead>\n",
       "  <tbody>\n",
       "    <tr>\n",
       "      <th>2021-10-04</th>\n",
       "      <td>336.799988</td>\n",
       "      <td>343.250000</td>\n",
       "      <td>335.149994</td>\n",
       "      <td>342.000000</td>\n",
       "      <td>342.000000</td>\n",
       "      <td>29553072</td>\n",
       "    </tr>\n",
       "    <tr>\n",
       "      <th>2021-10-05</th>\n",
       "      <td>340.450012</td>\n",
       "      <td>351.500000</td>\n",
       "      <td>338.850006</td>\n",
       "      <td>344.950012</td>\n",
       "      <td>344.950012</td>\n",
       "      <td>31861985</td>\n",
       "    </tr>\n",
       "    <tr>\n",
       "      <th>2021-10-06</th>\n",
       "      <td>347.000000</td>\n",
       "      <td>348.700012</td>\n",
       "      <td>335.000000</td>\n",
       "      <td>336.049988</td>\n",
       "      <td>336.049988</td>\n",
       "      <td>25272592</td>\n",
       "    </tr>\n",
       "    <tr>\n",
       "      <th>2021-10-07</th>\n",
       "      <td>341.100006</td>\n",
       "      <td>383.000000</td>\n",
       "      <td>339.250000</td>\n",
       "      <td>376.500000</td>\n",
       "      <td>376.500000</td>\n",
       "      <td>163238084</td>\n",
       "    </tr>\n",
       "    <tr>\n",
       "      <th>2021-10-08</th>\n",
       "      <td>385.899994</td>\n",
       "      <td>397.549988</td>\n",
       "      <td>380.000000</td>\n",
       "      <td>382.950012</td>\n",
       "      <td>382.950012</td>\n",
       "      <td>93728117</td>\n",
       "    </tr>\n",
       "  </tbody>\n",
       "</table>\n",
       "</div>"
      ],
      "text/plain": [
       "                  Open        High         Low       Close   Adj Close  \\\n",
       "Date                                                                     \n",
       "2021-10-04  336.799988  343.250000  335.149994  342.000000  342.000000   \n",
       "2021-10-05  340.450012  351.500000  338.850006  344.950012  344.950012   \n",
       "2021-10-06  347.000000  348.700012  335.000000  336.049988  336.049988   \n",
       "2021-10-07  341.100006  383.000000  339.250000  376.500000  376.500000   \n",
       "2021-10-08  385.899994  397.549988  380.000000  382.950012  382.950012   \n",
       "\n",
       "               Volume  \n",
       "Date                   \n",
       "2021-10-04   29553072  \n",
       "2021-10-05   31861985  \n",
       "2021-10-06   25272592  \n",
       "2021-10-07  163238084  \n",
       "2021-10-08   93728117  "
      ]
     },
     "execution_count": 6,
     "metadata": {},
     "output_type": "execute_result"
    }
   ],
   "source": [
    "def extract_data2()\n",
    "    # Import yfinance package\n",
    "    import yfinance as yfin\n",
    "    # Set the start and end date\n",
    "    start_date = '2021-10-4'\n",
    "    end_date = '2021-10-12'\n",
    "\n",
    "    # Set the ticker\n",
    "    ticker = 'TATAMOTORS.NS'\n",
    "\n",
    "    # Get the data\n",
    "    data = yfin.download(ticker, start_date, end_date)\n",
    "\n",
    "    # Print last 5 rows\n",
    "    data.tail(5)"
   ]
  },
  {
   "cell_type": "markdown",
   "metadata": {},
   "source": [
    "#This below module can be used to fetch the minute level stock market data. It returns the stock market data for the last 7 days."
   ]
  },
  {
   "cell_type": "markdown",
   "metadata": {},
   "source": [
    "#ticker: The name of the tickers you want the stock market data for. If you want stock market data for multiple tickers then separate them by space\n",
    "#period: The number of days/month of stock market data required. The valid frequencies are 1d, 5d, 1mo, 3mo, 6mo, 1y, 2y, 5y, 10y, ytd, max\n",
    "#interval: The frequency of the stock market data. The valid intervals are 1m, 2m, 5m, 15m, 30m, 60m, 90m, 1h, 1d, 5d, 1wk, 1mo, 3mo"
   ]
  },
  {
   "cell_type": "code",
   "execution_count": 53,
   "metadata": {},
   "outputs": [],
   "source": [
    "def download_data(stock_ticker_name):\n",
    "    import yfinance as yf\n",
    "    intraday_data = yf.download(tickers=stock_ticker_name,\n",
    "                                period=\"2d\",\n",
    "                                interval=\"1d\",\n",
    "                                auto_adjust=True)\n",
    "    print(intraday_data.head())\n",
    "    return intraday_data\n",
    "    "
   ]
  },
  {
   "cell_type": "code",
   "execution_count": 55,
   "metadata": {},
   "outputs": [
    {
     "name": "stdout",
     "output_type": "stream",
     "text": [
      "[*********************100%***********************]  1 of 1 completed\n",
      "                  Open        High     Low       Close     Volume\n",
      "Date                                                             \n",
      "2021-10-07  341.100006  383.000000  339.25  376.500000  163238084\n",
      "2021-10-08  385.899994  397.549988  380.00  382.950012   93728117\n"
     ]
    }
   ],
   "source": [
    "data=download_data('TATAMOTORS.NS')"
   ]
  },
  {
   "cell_type": "code",
   "execution_count": 56,
   "metadata": {},
   "outputs": [
    {
     "data": {
      "text/plain": [
       "pandas.core.frame.DataFrame"
      ]
     },
     "execution_count": 56,
     "metadata": {},
     "output_type": "execute_result"
    }
   ],
   "source": [
    "type(data)"
   ]
  },
  {
   "cell_type": "code",
   "execution_count": 57,
   "metadata": {},
   "outputs": [],
   "source": [
    "import datetime as dt\n",
    "#now = dt.date.today()\n",
    "#now = now.strftime('%Y-%m-%d')\n",
    "#now = now.strftime('%Y-%m-%d-%m-%s')\n",
    "now = dt.datetime.now()\n",
    "#now = now.strftime('%Y-%m-%d-%m-%s')"
   ]
  },
  {
   "cell_type": "code",
   "execution_count": 58,
   "metadata": {},
   "outputs": [],
   "source": [
    "#create filename from curent datetime \n",
    "now = str(now)\n",
    "now=now.replace(\"-\",\"_\")\n",
    "now=now.replace(\" \",\"_\")\n",
    "now=now.replace(\":\",\"_\")\n",
    "now=now.replace(\".\",\"_\")\n",
    "filename = now+\"\"+\".csv\""
   ]
  },
  {
   "cell_type": "code",
   "execution_count": 59,
   "metadata": {},
   "outputs": [
    {
     "data": {
      "text/plain": [
       "'2021_10_09_21_47_41_591901.csv'"
      ]
     },
     "execution_count": 59,
     "metadata": {},
     "output_type": "execute_result"
    }
   ],
   "source": [
    "#print csv filename\n",
    "filename"
   ]
  },
  {
   "cell_type": "code",
   "execution_count": 60,
   "metadata": {},
   "outputs": [],
   "source": [
    "#save data frame to csv file"
   ]
  },
  {
   "cell_type": "code",
   "execution_count": 61,
   "metadata": {},
   "outputs": [],
   "source": [
    "intraday_data.to_csv(filename, encoding='utf-8')"
   ]
  },
  {
   "cell_type": "code",
   "execution_count": null,
   "metadata": {},
   "outputs": [],
   "source": []
  }
 ],
 "metadata": {
  "kernelspec": {
   "display_name": "Python 3",
   "language": "python",
   "name": "python3"
  },
  "language_info": {
   "codemirror_mode": {
    "name": "ipython",
    "version": 3
   },
   "file_extension": ".py",
   "mimetype": "text/x-python",
   "name": "python",
   "nbconvert_exporter": "python",
   "pygments_lexer": "ipython3",
   "version": "3.8.5"
  }
 },
 "nbformat": 4,
 "nbformat_minor": 4
}
